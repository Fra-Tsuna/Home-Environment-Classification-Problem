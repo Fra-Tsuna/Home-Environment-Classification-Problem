{
  "nbformat": 4,
  "nbformat_minor": 0,
  "metadata": {
    "colab": {
      "name": "MLHom2_Part2.ipynb",
      "provenance": []
    },
    "kernelspec": {
      "name": "python3",
      "display_name": "Python 3"
    },
    "accelerator": "GPU"
  },
  "cells": [
    {
      "cell_type": "markdown",
      "metadata": {
        "id": "O58ps8KmjNHV"
      },
      "source": [
        "**Importing libraries**"
      ]
    },
    {
      "cell_type": "code",
      "metadata": {
        "id": "ZglrGBC04JvI",
        "colab": {
          "base_uri": "https://localhost:8080/"
        },
        "outputId": "bacaa259-477f-4e07-f117-9bc9ab59bae6"
      },
      "source": [
        "import numpy as np\r\n",
        "import tensorflow as tf\r\n",
        "import keras\r\n",
        "from keras.preprocessing.image import ImageDataGenerator\r\n",
        "from keras.models import Sequential\r\n",
        "from keras.layers import Input, Dense, Activation, Dropout, Flatten, Conv2D, MaxPooling2D, AveragePooling2D,\\\r\n",
        "                         GlobalAveragePooling2D, UpSampling2D\r\n",
        "from keras.layers.normalization import BatchNormalization\r\n",
        "from keras import regularizers\r\n",
        "from keras import optimizers\r\n",
        "from keras import callbacks\r\n",
        "import random\r\n",
        "import os\r\n",
        "import matplotlib.pyplot as plt\r\n",
        "\r\n",
        "print(\"Libraries imported\")\r\n",
        "device_name = tf.test.gpu_device_name()\r\n",
        "if device_name != '/device:GPU:0':\r\n",
        "  raise SystemError('GPU device not found')\r\n",
        "print('Found GPU at: {}'.format(device_name))"
      ],
      "execution_count": null,
      "outputs": [
        {
          "output_type": "stream",
          "text": [
            "Libraries imported\n",
            "Found GPU at: /device:GPU:0\n"
          ],
          "name": "stdout"
        }
      ]
    },
    {
      "cell_type": "code",
      "metadata": {
        "id": "My-2oRh0DPm5",
        "colab": {
          "base_uri": "https://localhost:8080/"
        },
        "outputId": "8c0718d1-b209-43cd-af3e-2356df4cad2d"
      },
      "source": [
        "from keras.preprocessing.image import ImageDataGenerator\r\n",
        "from keras.models import Sequential\r\n",
        "from keras.layers import Input, Dense, Activation, Dropout, Flatten,\\\r\n",
        "                         Conv2D, MaxPooling2D, AveragePooling2D, GlobalAveragePooling2D,\\\r\n",
        "                         UpSampling2D\r\n",
        "from keras.layers.normalization import BatchNormalization\r\n",
        "from keras import regularizers\r\n",
        "from keras import optimizers\r\n",
        "from keras import callbacks\r\n",
        "print(\"Libraries imported\")"
      ],
      "execution_count": null,
      "outputs": [
        {
          "output_type": "stream",
          "text": [
            "Libraries imported\n"
          ],
          "name": "stdout"
        }
      ]
    },
    {
      "cell_type": "markdown",
      "metadata": {
        "id": "k_X90Ynp0B8d"
      },
      "source": [
        "**Mounting drive**"
      ]
    },
    {
      "cell_type": "code",
      "metadata": {
        "colab": {
          "base_uri": "https://localhost:8080/"
        },
        "id": "reNtyhUsAFtN",
        "outputId": "c7b38edf-516b-4bf5-bb2d-375909e6906e"
      },
      "source": [
        "from google.colab import drive\r\n",
        "drive.mount('/content/drive')"
      ],
      "execution_count": null,
      "outputs": [
        {
          "output_type": "stream",
          "text": [
            "Mounted at /content/drive\n"
          ],
          "name": "stdout"
        }
      ]
    },
    {
      "cell_type": "markdown",
      "metadata": {
        "id": "8tvKieyKhhcV"
      },
      "source": [
        "**Loading the dataset**\r\n",
        "I use the same split I obtained in the previous method"
      ]
    },
    {
      "cell_type": "code",
      "metadata": {
        "colab": {
          "base_uri": "https://localhost:8080/"
        },
        "id": "_XycTUMLAd01",
        "outputId": "8989fce1-9aab-4bcb-94db-08087cc91161"
      },
      "source": [
        "datadir = '/content/drive/MyDrive/Data'\r\n",
        "trainingset = datadir+'/train/'\r\n",
        "valset = datadir + '/val/'\r\n",
        "testset = datadir + '/test/'\r\n",
        "\r\n",
        "batch_size=32\r\n",
        "train_datagen = ImageDataGenerator(rescale = 1./255, zoom_range = 0.1, rotation_range = 5,\r\n",
        "                                   width_shift_range = 0.1, height_shift_range = 0.1,\r\n",
        "                                   horizontal_flip = True, vertical_flip = False)\r\n",
        "\r\n",
        "train_generator = train_datagen.flow_from_directory(directory = trainingset, target_size=(256, 256), color_mode='rgb',\r\n",
        "                                                    batch_size=batch_size, class_mode='categorical', shuffle=True)\r\n",
        "\r\n",
        "val_datagen = ImageDataGenerator(rescale = 1./255)\r\n",
        "\r\n",
        "val_generator = val_datagen.flow_from_directory(directory = valset, target_size=(256, 256), color_mode=\"rgb\",\r\n",
        "                                                  batch_size=batch_size, class_mode=\"categorical\", shuffle=False)\r\n",
        "\r\n",
        "num_samples = train_generator.n\r\n",
        "num_classes = train_generator.num_classes\r\n",
        "input_shape = train_generator.image_shape\r\n",
        "classnames = [k for k,v in train_generator.class_indices.items()]\r\n",
        "\r\n",
        "print(\"Image input %s\" %str(input_shape))\r\n",
        "print(\"Classes: %r\" %classnames)\r\n",
        "\r\n",
        "print('Loaded %d training samples from %d classes.' %(num_samples,num_classes))\r\n",
        "print('Loaded %d test samples from %d classes.' %(val_generator.n,val_generator.num_classes))"
      ],
      "execution_count": null,
      "outputs": [
        {
          "output_type": "stream",
          "text": [
            "Found 6007 images belonging to 8 classes.\n",
            "Found 1726 images belonging to 8 classes.\n",
            "Image input (256, 256, 3)\n",
            "Classes: ['Breadsticks', 'Melons', 'Mop_Handles', 'Tea_drink_bottle', 'canned_tuna', 'dinnerware', 'grocery_bag', 'side_dish_plate']\n",
            "Loaded 6007 training samples from 8 classes.\n",
            "Loaded 1726 test samples from 8 classes.\n"
          ],
          "name": "stdout"
        }
      ]
    },
    {
      "cell_type": "markdown",
      "metadata": {
        "id": "5MbtDih9l_Cn"
      },
      "source": [
        "**VGG16 Network**"
      ]
    },
    {
      "cell_type": "code",
      "metadata": {
        "colab": {
          "base_uri": "https://localhost:8080/"
        },
        "id": "65rKCJL3CzKK",
        "outputId": "865687be-2bc5-42ea-8c66-88ee084c007c"
      },
      "source": [
        "def load_vgg16_features(input_shape, init_weights=None):\r\n",
        "    \r\n",
        "    input0 = Input(shape=input_shape)\r\n",
        "    vgg16_model = keras.applications.vgg16.VGG16(include_top=False, weights=init_weights, input_tensor=input0)\r\n",
        "    feature_extractor = keras.models.Model(inputs=input0, outputs=vgg16_model.output, name=\"vgg16_features\")\r\n",
        "    optimizer = 'adam' \r\n",
        "    feature_extractor.compile(loss=keras.losses.categorical_crossentropy, optimizer=optimizer, metrics=['accuracy'])\r\n",
        "    return feature_extractor\r\n",
        "\r\n",
        "vgg16feat_model = load_vgg16_features(input_shape)\r\n",
        "vgg16feat_model.summary()"
      ],
      "execution_count": null,
      "outputs": [
        {
          "output_type": "stream",
          "text": [
            "Model: \"vgg16_features\"\n",
            "_________________________________________________________________\n",
            "Layer (type)                 Output Shape              Param #   \n",
            "=================================================================\n",
            "input_1 (InputLayer)         [(None, 256, 256, 3)]     0         \n",
            "_________________________________________________________________\n",
            "block1_conv1 (Conv2D)        (None, 256, 256, 64)      1792      \n",
            "_________________________________________________________________\n",
            "block1_conv2 (Conv2D)        (None, 256, 256, 64)      36928     \n",
            "_________________________________________________________________\n",
            "block1_pool (MaxPooling2D)   (None, 128, 128, 64)      0         \n",
            "_________________________________________________________________\n",
            "block2_conv1 (Conv2D)        (None, 128, 128, 128)     73856     \n",
            "_________________________________________________________________\n",
            "block2_conv2 (Conv2D)        (None, 128, 128, 128)     147584    \n",
            "_________________________________________________________________\n",
            "block2_pool (MaxPooling2D)   (None, 64, 64, 128)       0         \n",
            "_________________________________________________________________\n",
            "block3_conv1 (Conv2D)        (None, 64, 64, 256)       295168    \n",
            "_________________________________________________________________\n",
            "block3_conv2 (Conv2D)        (None, 64, 64, 256)       590080    \n",
            "_________________________________________________________________\n",
            "block3_conv3 (Conv2D)        (None, 64, 64, 256)       590080    \n",
            "_________________________________________________________________\n",
            "block3_pool (MaxPooling2D)   (None, 32, 32, 256)       0         \n",
            "_________________________________________________________________\n",
            "block4_conv1 (Conv2D)        (None, 32, 32, 512)       1180160   \n",
            "_________________________________________________________________\n",
            "block4_conv2 (Conv2D)        (None, 32, 32, 512)       2359808   \n",
            "_________________________________________________________________\n",
            "block4_conv3 (Conv2D)        (None, 32, 32, 512)       2359808   \n",
            "_________________________________________________________________\n",
            "block4_pool (MaxPooling2D)   (None, 16, 16, 512)       0         \n",
            "_________________________________________________________________\n",
            "block5_conv1 (Conv2D)        (None, 16, 16, 512)       2359808   \n",
            "_________________________________________________________________\n",
            "block5_conv2 (Conv2D)        (None, 16, 16, 512)       2359808   \n",
            "_________________________________________________________________\n",
            "block5_conv3 (Conv2D)        (None, 16, 16, 512)       2359808   \n",
            "_________________________________________________________________\n",
            "block5_pool (MaxPooling2D)   (None, 8, 8, 512)         0         \n",
            "=================================================================\n",
            "Total params: 14,714,688\n",
            "Trainable params: 14,714,688\n",
            "Non-trainable params: 0\n",
            "_________________________________________________________________\n"
          ],
          "name": "stdout"
        }
      ]
    },
    {
      "cell_type": "markdown",
      "metadata": {
        "id": "Sx-YV5O9l18I"
      },
      "source": [
        "**Transfer Learning with VGG16**\r\n",
        "\r\n",
        "Weights initializated on ImageNet. I've chosen to train only the last convolutional layer of the last block of the network."
      ]
    },
    {
      "cell_type": "code",
      "metadata": {
        "colab": {
          "base_uri": "https://localhost:8080/"
        },
        "id": "UW7UIHSmJA09",
        "outputId": "82a1fffc-ce04-4fc6-b9ad-218d4ba3acb4"
      },
      "source": [
        "def transferNet(input_shape, num_classes, output_layer_name, trainable_layers):\r\n",
        "    \r\n",
        "    feature_extractor = load_vgg16_features(input_shape, init_weights='imagenet')\r\n",
        "\r\n",
        "    #INPUT\r\n",
        "    input_t = feature_extractor.get_layer(index=0).input\r\n",
        "\r\n",
        "   \r\n",
        "    for idx,layer in enumerate(feature_extractor.layers):\r\n",
        "      if layer.name in trainable_layers:\r\n",
        "        layer.trainable = True\r\n",
        "      else:\r\n",
        "        layer.trainable = False\r\n",
        "\r\n",
        "    output_extractor = feature_extractor.get_layer(name = output_layer_name).output\r\n",
        "    \r\n",
        "    flatten = Flatten()(output_extractor) \r\n",
        "    flatten_norm = BatchNormalization()(flatten)\r\n",
        "\r\n",
        "    #DL1\r\n",
        "    dense1 = Dropout(0.5)(flatten_norm)\r\n",
        "    dense1 = Dense(400, activation='relu')(dense1)\r\n",
        "    dense1 = BatchNormalization()(dense1)\r\n",
        "    \r\n",
        "    #DL2\r\n",
        "    dense2 = Dropout(0.5)(dense1)\r\n",
        "    dense2 = Dense(100, activation='relu')(dense2)\r\n",
        "    dense2 = BatchNormalization()(dense2)\r\n",
        "\r\n",
        "    #Output\r\n",
        "    dense3 = BatchNormalization()(dense2)\r\n",
        "    dense3 = Dense(num_classes, activation='softmax')(dense3)\r\n",
        "    \r\n",
        "    model = keras.models.Model(inputs=input_t, outputs=dense3, name=\"transferNet\")\r\n",
        "    \r\n",
        "    optimizer = 'adam'\r\n",
        "    model.compile(loss=keras.losses.categorical_crossentropy, optimizer=optimizer, metrics=['accuracy'])\r\n",
        "\r\n",
        "    return model\r\n",
        "\r\n",
        "\r\n",
        "\r\n",
        "name_output_extractor = \"block5_pool\"\r\n",
        "trainable_layers = [\"block5_conv3\"]\r\n",
        "\r\n",
        "\r\n",
        "transfer_model = transferNet(input_shape, num_classes, name_output_extractor, trainable_layers)\r\n",
        "transfer_model.summary()"
      ],
      "execution_count": null,
      "outputs": [
        {
          "output_type": "stream",
          "text": [
            "Downloading data from https://storage.googleapis.com/tensorflow/keras-applications/vgg16/vgg16_weights_tf_dim_ordering_tf_kernels_notop.h5\n",
            "58892288/58889256 [==============================] - 1s 0us/step\n",
            "Model: \"transferNet\"\n",
            "_________________________________________________________________\n",
            "Layer (type)                 Output Shape              Param #   \n",
            "=================================================================\n",
            "input_2 (InputLayer)         [(None, 256, 256, 3)]     0         \n",
            "_________________________________________________________________\n",
            "block1_conv1 (Conv2D)        (None, 256, 256, 64)      1792      \n",
            "_________________________________________________________________\n",
            "block1_conv2 (Conv2D)        (None, 256, 256, 64)      36928     \n",
            "_________________________________________________________________\n",
            "block1_pool (MaxPooling2D)   (None, 128, 128, 64)      0         \n",
            "_________________________________________________________________\n",
            "block2_conv1 (Conv2D)        (None, 128, 128, 128)     73856     \n",
            "_________________________________________________________________\n",
            "block2_conv2 (Conv2D)        (None, 128, 128, 128)     147584    \n",
            "_________________________________________________________________\n",
            "block2_pool (MaxPooling2D)   (None, 64, 64, 128)       0         \n",
            "_________________________________________________________________\n",
            "block3_conv1 (Conv2D)        (None, 64, 64, 256)       295168    \n",
            "_________________________________________________________________\n",
            "block3_conv2 (Conv2D)        (None, 64, 64, 256)       590080    \n",
            "_________________________________________________________________\n",
            "block3_conv3 (Conv2D)        (None, 64, 64, 256)       590080    \n",
            "_________________________________________________________________\n",
            "block3_pool (MaxPooling2D)   (None, 32, 32, 256)       0         \n",
            "_________________________________________________________________\n",
            "block4_conv1 (Conv2D)        (None, 32, 32, 512)       1180160   \n",
            "_________________________________________________________________\n",
            "block4_conv2 (Conv2D)        (None, 32, 32, 512)       2359808   \n",
            "_________________________________________________________________\n",
            "block4_conv3 (Conv2D)        (None, 32, 32, 512)       2359808   \n",
            "_________________________________________________________________\n",
            "block4_pool (MaxPooling2D)   (None, 16, 16, 512)       0         \n",
            "_________________________________________________________________\n",
            "block5_conv1 (Conv2D)        (None, 16, 16, 512)       2359808   \n",
            "_________________________________________________________________\n",
            "block5_conv2 (Conv2D)        (None, 16, 16, 512)       2359808   \n",
            "_________________________________________________________________\n",
            "block5_conv3 (Conv2D)        (None, 16, 16, 512)       2359808   \n",
            "_________________________________________________________________\n",
            "block5_pool (MaxPooling2D)   (None, 8, 8, 512)         0         \n",
            "_________________________________________________________________\n",
            "flatten (Flatten)            (None, 32768)             0         \n",
            "_________________________________________________________________\n",
            "batch_normalization (BatchNo (None, 32768)             131072    \n",
            "_________________________________________________________________\n",
            "dropout (Dropout)            (None, 32768)             0         \n",
            "_________________________________________________________________\n",
            "dense (Dense)                (None, 400)               13107600  \n",
            "_________________________________________________________________\n",
            "batch_normalization_1 (Batch (None, 400)               1600      \n",
            "_________________________________________________________________\n",
            "dropout_1 (Dropout)          (None, 400)               0         \n",
            "_________________________________________________________________\n",
            "dense_1 (Dense)              (None, 100)               40100     \n",
            "_________________________________________________________________\n",
            "batch_normalization_2 (Batch (None, 100)               400       \n",
            "_________________________________________________________________\n",
            "batch_normalization_3 (Batch (None, 100)               400       \n",
            "_________________________________________________________________\n",
            "dense_2 (Dense)              (None, 8)                 808       \n",
            "=================================================================\n",
            "Total params: 27,996,668\n",
            "Trainable params: 15,575,052\n",
            "Non-trainable params: 12,421,616\n",
            "_________________________________________________________________\n"
          ],
          "name": "stdout"
        }
      ]
    },
    {
      "cell_type": "markdown",
      "metadata": {
        "id": "k5HaOUlSh9Li"
      },
      "source": [
        "**We train the model**"
      ]
    },
    {
      "cell_type": "code",
      "metadata": {
        "colab": {
          "base_uri": "https://localhost:8080/"
        },
        "id": "Y3-umFLTMgf7",
        "outputId": "eda4b6e6-9f51-475e-f832-b627938bde83"
      },
      "source": [
        "epochs = 10\r\n",
        "\r\n",
        "steps_per_epoch = train_generator.n//train_generator.batch_size\r\n",
        "val_steps = val_generator.n//val_generator.batch_size+1\r\n",
        "\r\n",
        "try:\r\n",
        "    transfer_history = transfer_model.fit(train_generator, epochs=epochs, verbose=1,\r\n",
        "                    steps_per_epoch=steps_per_epoch, validation_data=val_generator, validation_steps=val_steps)\r\n",
        "except KeyboardInterrupt:\r\n",
        "    pass"
      ],
      "execution_count": null,
      "outputs": [
        {
          "output_type": "stream",
          "text": [
            "Epoch 1/10\n",
            "187/187 [==============================] - 2232s 12s/step - loss: 1.0958 - accuracy: 0.6298 - val_loss: 0.8685 - val_accuracy: 0.7375\n",
            "Epoch 2/10\n",
            "187/187 [==============================] - 107s 571ms/step - loss: 0.7564 - accuracy: 0.7485 - val_loss: 0.7292 - val_accuracy: 0.7758\n",
            "Epoch 3/10\n",
            "187/187 [==============================] - 106s 565ms/step - loss: 0.6532 - accuracy: 0.7756 - val_loss: 0.6519 - val_accuracy: 0.7793\n",
            "Epoch 4/10\n",
            "187/187 [==============================] - 105s 563ms/step - loss: 0.5862 - accuracy: 0.8033 - val_loss: 0.6468 - val_accuracy: 0.7879\n",
            "Epoch 5/10\n",
            "187/187 [==============================] - 105s 562ms/step - loss: 0.5401 - accuracy: 0.8172 - val_loss: 0.6319 - val_accuracy: 0.7955\n",
            "Epoch 6/10\n",
            "187/187 [==============================] - 104s 559ms/step - loss: 0.4892 - accuracy: 0.8308 - val_loss: 0.6264 - val_accuracy: 0.7943\n",
            "Epoch 7/10\n",
            "187/187 [==============================] - 104s 558ms/step - loss: 0.4567 - accuracy: 0.8428 - val_loss: 0.6330 - val_accuracy: 0.7990\n",
            "Epoch 8/10\n",
            "187/187 [==============================] - 103s 550ms/step - loss: 0.4456 - accuracy: 0.8477 - val_loss: 0.5944 - val_accuracy: 0.8204\n",
            "Epoch 9/10\n",
            "187/187 [==============================] - 103s 550ms/step - loss: 0.4025 - accuracy: 0.8604 - val_loss: 0.6204 - val_accuracy: 0.8053\n",
            "Epoch 10/10\n",
            "187/187 [==============================] - 103s 551ms/step - loss: 0.3617 - accuracy: 0.8750 - val_loss: 0.5777 - val_accuracy: 0.8314\n"
          ],
          "name": "stdout"
        }
      ]
    },
    {
      "cell_type": "markdown",
      "metadata": {
        "id": "bwQOupDsiSBF"
      },
      "source": [
        "**Accuracy and loss over training epochs**"
      ]
    },
    {
      "cell_type": "code",
      "metadata": {
        "colab": {
          "base_uri": "https://localhost:8080/",
          "height": 573
        },
        "id": "x4vhg-FFg25e",
        "outputId": "609d1805-3967-4b6d-c353-73d37bd2501b"
      },
      "source": [
        "# summarize history for accuracy\r\n",
        "plt.plot(transfer_history.history['accuracy'])\r\n",
        "plt.plot(transfer_history.history['val_accuracy'])\r\n",
        "plt.title('model accuracy')\r\n",
        "plt.ylabel('accuracy')\r\n",
        "plt.xlabel('epoch')\r\n",
        "plt.legend(['train', 'test'], loc='upper left')\r\n",
        "plt.show()\r\n",
        "# summarize history for loss\r\n",
        "plt.plot(transfer_history.history['loss'])\r\n",
        "plt.plot(transfer_history.history['val_loss'])\r\n",
        "plt.title('model loss')\r\n",
        "plt.ylabel('loss')\r\n",
        "plt.xlabel('epoch')\r\n",
        "plt.legend(['train', 'test'], loc='upper left')\r\n",
        "plt.show()"
      ],
      "execution_count": null,
      "outputs": [
        {
          "output_type": "display_data",
          "data": {
            "image/png": "[encoded data removed]",
            "text/plain": [
              "<Figure size 432x288 with 1 Axes>"
            ]
          },
          "metadata": {
            "tags": [],
            "needs_background": "light"
          }
        },
        {
          "output_type": "display_data",
          "data": {
            "image/png": "[encoded data removed]",
            "text/plain": [
              "<Figure size 432x288 with 1 Axes>"
            ]
          },
          "metadata": {
            "tags": [],
            "needs_background": "light"
          }
        }
      ]
    },
    {
      "cell_type": "markdown",
      "metadata": {
        "id": "wIa_zTwviXkB"
      },
      "source": [
        "**Saving the model**"
      ]
    },
    {
      "cell_type": "code",
      "metadata": {
        "colab": {
          "base_uri": "https://localhost:8080/"
        },
        "id": "PnmNqp4j1M09",
        "outputId": "74a4f563-da4b-4685-9f99-75c69f115e46"
      },
      "source": [
        "models_dir = datadir\r\n",
        "\r\n",
        "def savemodel(model, problem):\r\n",
        "    filename = os.path.join(models_dir, '%s.h5' %problem)\r\n",
        "    model.save(filename)\r\n",
        "    print(\"\\nModel saved successfully on file %s\\n\" %filename)\r\n",
        "\r\n",
        "savemodel(transfer_model,'My_Transfer_Learning_model')"
      ],
      "execution_count": null,
      "outputs": [
        {
          "output_type": "stream",
          "text": [
            "\n",
            "Model saved successfully on file /content/drive/MyDrive/Data/My_Transfer_Learning_model.h5\n",
            "\n"
          ],
          "name": "stdout"
        }
      ]
    },
    {
      "cell_type": "markdown",
      "metadata": {
        "id": "hpoqV59nifh9"
      },
      "source": [
        "**Loading the presaved model**\r\n",
        "Not necessary in this case, but it's always good to have a loading function"
      ]
    },
    {
      "cell_type": "code",
      "metadata": {
        "id": "R1mhaIpJimPC"
      },
      "source": [
        "from keras.models import load_model\r\n",
        "\r\n",
        "models_dir = datadir\r\n",
        "\r\n",
        "def loadmodel(problem):\r\n",
        "    filename = os.path.join(models_dir, '%s.h5' %problem)\r\n",
        "    try:\r\n",
        "        model = load_model(filename)\r\n",
        "        print(\"\\nModel loaded successfully from file %s\\n\" %filename)\r\n",
        "    except OSError:    \r\n",
        "        print(\"\\nModel file %s not found!!!\\n\" %filename)\r\n",
        "        model = None\r\n",
        "    return model\r\n",
        "\r\n",
        "transfer_model = loadmodel('My_Transfer_Learning_model')"
      ],
      "execution_count": null,
      "outputs": []
    },
    {
      "cell_type": "markdown",
      "metadata": {
        "id": "AOuzF4kbjCbL"
      },
      "source": [
        "**Now, we evaluate the model**"
      ]
    },
    {
      "cell_type": "code",
      "metadata": {
        "colab": {
          "base_uri": "https://localhost:8080/"
        },
        "id": "9i0qBKuK1rsI",
        "outputId": "450905c0-de28-466d-8ecc-925b33853e50"
      },
      "source": [
        "test_datagen = ImageDataGenerator(rescale = 1./255)\r\n",
        "\r\n",
        "test_generator = test_datagen.flow_from_directory(\r\n",
        "    directory=testset,\r\n",
        "    target_size=(256, 256),\r\n",
        "    color_mode=\"rgb\",\r\n",
        "    batch_size=batch_size,\r\n",
        "    class_mode=\"categorical\",\r\n",
        "    shuffle=False\r\n",
        ")\r\n",
        "\r\n",
        "val_steps=test_generator.n//test_generator.batch_size+1\r\n",
        "loss, acc = transfer_model.evaluate(test_generator,verbose=1,steps=val_steps)\r\n",
        "print('Test loss: %f' %loss)\r\n",
        "print('Test accuracy: %f' %acc)"
      ],
      "execution_count": null,
      "outputs": [
        {
          "output_type": "stream",
          "text": [
            "Found 855 images belonging to 8 classes.\n",
            "27/27 [==============================] - 283s 10s/step - loss: 0.6275 - accuracy: 0.8070\n",
            "Test loss: 0.627492\n",
            "Test accuracy: 0.807018\n"
          ],
          "name": "stdout"
        }
      ]
    },
    {
      "cell_type": "code",
      "metadata": {
        "colab": {
          "base_uri": "https://localhost:8080/"
        },
        "id": "XO4ZcDrL3HPy",
        "outputId": "106cc721-ed70-43ff-bfcd-b7266eb36e8f"
      },
      "source": [
        "import sklearn.metrics \r\n",
        "from sklearn.metrics import classification_report, confusion_matrix\r\n",
        "\r\n",
        "preds = transfer_model.predict(test_generator,verbose=1,steps=val_steps)\r\n",
        "\r\n",
        "Ypred = np.argmax(preds, axis=1)\r\n",
        "Ytest = test_generator.classes  \r\n",
        "\r\n",
        "print(classification_report(Ytest, Ypred, labels=None, target_names=classnames, digits=3))"
      ],
      "execution_count": null,
      "outputs": [
        {
          "output_type": "stream",
          "text": [
            " 2/27 [=>............................] - ETA: 2sWARNING:tensorflow:Callbacks method `on_predict_batch_end` is slow compared to the batch time (batch time: 0.0099s vs `on_predict_batch_end` time: 0.1469s). Check your callbacks.\n",
            "27/27 [==============================] - 4s 155ms/step\n",
            "                  precision    recall  f1-score   support\n",
            "\n",
            "     Breadsticks      0.832     0.808     0.820       104\n",
            "          Melons      0.835     0.812     0.824       112\n",
            "     Mop_Handles      0.917     0.885     0.901       113\n",
            "Tea_drink_bottle      0.888     0.879     0.883        99\n",
            "     canned_tuna      0.852     0.726     0.784        95\n",
            "      dinnerware      0.784     0.726     0.754        95\n",
            "     grocery_bag      0.769     0.945     0.848       109\n",
            " side_dish_plate      0.644     0.680     0.662       128\n",
            "\n",
            "        accuracy                          0.807       855\n",
            "       macro avg      0.815     0.808     0.809       855\n",
            "    weighted avg      0.811     0.807     0.807       855\n",
            "\n"
          ],
          "name": "stdout"
        }
      ]
    },
    {
      "cell_type": "markdown",
      "metadata": {
        "id": "QRPJGg63jFlJ"
      },
      "source": [
        "**A function for Confusion Matrix**"
      ]
    },
    {
      "cell_type": "code",
      "metadata": {
        "id": "wSCDRjpz3Yvu"
      },
      "source": [
        "import itertools\r\n",
        "\r\n",
        "def plot_confusion_matrix(cm,\r\n",
        "                          target_names,\r\n",
        "                          title='Confusion matrix',\r\n",
        "                          cmap=None,\r\n",
        "                          normalize=True):\r\n",
        "  \r\n",
        "    accuracy = np.trace(cm) / np.sum(cm).astype('float')\r\n",
        "    misclass = 1 - accuracy\r\n",
        "\r\n",
        "    if cmap is None:\r\n",
        "        cmap = plt.get_cmap('Blues')\r\n",
        "\r\n",
        "    plt.figure(figsize=(8, 6))\r\n",
        "    plt.imshow(cm, interpolation='nearest', cmap=cmap)\r\n",
        "    plt.title(title)\r\n",
        "    plt.colorbar()\r\n",
        "\r\n",
        "    if target_names is not None:\r\n",
        "        tick_marks = np.arange(len(target_names))\r\n",
        "        plt.xticks(tick_marks, target_names, rotation=45)\r\n",
        "        plt.yticks(tick_marks, target_names)\r\n",
        "\r\n",
        "    if normalize:\r\n",
        "        cm = cm.astype('float') / cm.sum(axis=1)[:, np.newaxis]\r\n",
        "\r\n",
        "\r\n",
        "    thresh = cm.max() / 1.5 if normalize else cm.max() / 2\r\n",
        "    for i, j in itertools.product(range(cm.shape[0]), range(cm.shape[1])):\r\n",
        "        if normalize:\r\n",
        "            plt.text(j, i, \"{:0.4f}\".format(cm[i, j]),\r\n",
        "                     horizontalalignment=\"center\",\r\n",
        "                     color=\"white\" if cm[i, j] > thresh else \"black\")\r\n",
        "        else:\r\n",
        "            plt.text(j, i, \"{:,}\".format(cm[i, j]),\r\n",
        "                     horizontalalignment=\"center\",\r\n",
        "                     color=\"white\" if cm[i, j] > thresh else \"black\")\r\n",
        "\r\n",
        "\r\n",
        "    plt.tight_layout()\r\n",
        "    plt.ylabel('True label')\r\n",
        "    plt.xlabel('Predicted label\\naccuracy={:0.4f}; misclass={:0.4f}'.format(accuracy, misclass))\r\n",
        "    plt.show()"
      ],
      "execution_count": null,
      "outputs": []
    },
    {
      "cell_type": "markdown",
      "metadata": {
        "id": "iSYJFa0gjIUl"
      },
      "source": [
        "**Confusion Matrix**"
      ]
    },
    {
      "cell_type": "code",
      "metadata": {
        "colab": {
          "base_uri": "https://localhost:8080/",
          "height": 467
        },
        "id": "SwRD4jm83bfm",
        "outputId": "cc3b5267-c8ac-496b-c502-c731e9bb2e21"
      },
      "source": [
        "cm = confusion_matrix(Ytest, Ypred, labels=None, sample_weight=None)\r\n",
        "plot_confusion_matrix(cm, classnames)"
      ],
      "execution_count": null,
      "outputs": [
        {
          "output_type": "display_data",
          "data": {
            "image/png": "[encoded data removed]",
            "text/plain": [
              "<Figure size 576x432 with 2 Axes>"
            ]
          },
          "metadata": {
            "tags": [],
            "needs_background": "light"
          }
        }
      ]
    }
  ]
}
