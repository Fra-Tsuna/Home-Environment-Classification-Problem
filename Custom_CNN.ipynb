{
  "nbformat": 4,
  "nbformat_minor": 0,
  "metadata": {
    "accelerator": "GPU",
    "colab": {
      "name": "MLHom2.ipynb",
      "provenance": [],
      "collapsed_sections": []
    },
    "kernelspec": {
      "display_name": "Python 3",
      "name": "python3"
    }
  },
  "cells": [
    {
      "cell_type": "markdown",
      "metadata": {
        "id": "ISS4E__BajqE"
      },
      "source": [
        "**Importing libraries**"
      ]
    },
    {
      "cell_type": "code",
      "metadata": {
        "colab": {
          "base_uri": "https://localhost:8080/"
        },
        "id": "v46xB1tzFpHC",
        "outputId": "c57f1bc6-4bd9-4bc8-faa3-a3c22d8cd685"
      },
      "source": [
        "import numpy as np\n",
        "import tensorflow as tf\n",
        "import keras\n",
        "from keras.preprocessing.image import ImageDataGenerator\n",
        "import random\n",
        "import os\n",
        "import matplotlib.pyplot as plt\n",
        "import splitfolders\n",
        "\n",
        "print(\"Libraries imported\")\n",
        "device_name = tf.test.gpu_device_name()\n",
        "if device_name != '/device:GPU:0':\n",
        "  raise SystemError('GPU device not found')\n",
        "print('Found GPU at: {}'.format(device_name))"
      ],
      "execution_count": null,
      "outputs": [
        {
          "output_type": "stream",
          "text": [
            "Libraries imported\n",
            "Found GPU at: /device:GPU:0\n"
          ],
          "name": "stdout"
        }
      ]
    },
    {
      "cell_type": "markdown",
      "metadata": {
        "id": "uRz5CgBEaq05"
      },
      "source": [
        "**Checking which classes I need to use**"
      ]
    },
    {
      "cell_type": "code",
      "metadata": {
        "colab": {
          "base_uri": "https://localhost:8080/"
        },
        "id": "yzqLoR-5FNRa",
        "outputId": "20dcd83b-baeb-4e85-ea54-7e6c48fd5faa"
      },
      "source": [
        "labels = {\n",
        "  'containers': [ 'food_tray', 'glass_container', 'serving_tray', 'disposable_container', 'plastic_tray', 'grocery_bag', 'decorative_tray', 'reusable_bag', 'plastic_bag', 'paper_bag', 'food_banister', 'basket_container', 'glass_tray', 'colored_paper_bag', 'plastic_food_container', 'glass_food_container', 'plastic_container',  ],\n",
        "  'tableware': [ 'pasta_bowl', 'teacup', 'snack_bowl', 'espresso_cup', 'accent_plate', 'beer_glasses', 'cereal_bowl', 'water_glasses', 'dessert_plate', 'soup_bowl', 'side_dish_plate', 'rice_bowl', 'salad_plate', 'salad_bowl', 'buillin_cup', 'fruit_plate', 'saucer_cup', 'coffee_mug', 'dessert_bowl', 'coffee_cup', 'dinner_plate', 'sushi_plate', 'wine_glasses',  ],\n",
        "  'drinks': [ 'Cocoa_drink_bottle', 'juice_carton', 'Coffee_drink_bottle', 'Flavored_Water', 'Tonic_Water', 'Tea_drink_bottle', 'Sparkling_Water', 'Juice_bottle', 'Seltzer_Water', 'Mineral_Water', 'Sports_Drinking_Water', 'juice_box', 'Soft_Drink_can', 'iced_tea', 'Energy_Drink', 'chocolate_drink_bottle', 'soft_drink_bottle',  ],\n",
        "  'cutlery': [ 'Knives', 'chopsticks', 'plastic_fork', 'carving_knife_fork', 'Forks', 'utensils', 'cake_server', 'butter_knives', 'plastic_spoon', 'dinnerware', 'plastic_knife', 'Sporks', 'steak_knives', 'Spoons', 'serveware',  ],\n",
        "  'fruits': [ 'Bananas', 'Oranges', 'Cranberries', 'Nectarines', 'Plums', 'Grapes', 'Grapefruit', 'Papayas', 'Peaches', 'Raspberries', 'Strawberries', 'Pears', 'Pineapple', 'Lemons', 'Blueberries', 'Tangerines', 'Mangos', 'Figs', 'Cherries', 'Melons', 'Apricots', 'Mixed', 'Apples',  ],\n",
        "  'snacks': [ 'Mints_bag', 'Fruit_Snacks', 'Vegetable_Chips_&_Crisps', 'Marshmallows_bag', 'bubble_gum_brand', 'Cookies', 'Sour_Candy_bag', 'Hard_Candy_snacks', 'potato_Crisps', 'Candy_Bars', 'snacks_Seeds', 'Pretzels', 'Chewing_Gum_brand', 'Jelly_Beans_bag', 'potato_chips_pringles', 'Assorted_Snack_Cookies', 'Lollipops', 'Breadsticks', 'Gummy_Candy_bag', 'Potato_Chips_bag', 'Fruit_Cups', 'Puffed_Snacks', 'Nuts_snacks', 'Crackers', 'Party_Mix_snack', 'Popcorn',  ],\n",
        "  'food': [ 'Olives_jar', 'pasta_sides', 'rice_sides', 'jarred_vegetables', 'Muesli_box', 'instant_ramen_noodles', 'canned_sardines', 'pickled_vegetables', 'Packaged_Bread', 'Oatmeal_box', 'noodle_soup_cup', 'Fruit_Butters', 'canned_tuna', 'Jams', 'Nut_&_Seed_Butter', 'Honey', 'canned_vegetables', 'Marmalades', 'Cereals_box', 'canned_soup', 'instant_Soup', 'Macaroni_&_Cheese_box',  ],\n",
        "  'cleaning_stuff': [ 'Paper_Towels', 'Floor_Cleaners', 'Carpet_Cleaners', 'Sponges', 'Glass_Cleaners', 'Furniture_&_Wood_Polishes', 'Metal_Polishes', 'Broom_Handles_&_Heads', 'Latex_Gloves', 'Hand_Brooms', 'Push_Brooms', 'Caddies', 'All-Purpose_Cleaners', 'Wet_Mops', 'Brushes', 'Cloths_&_Wipes', 'Mop_Handles', 'Bathroom_Cleaners', 'Carpet_Spot_Cleaning_Sprays', 'Angle_Brooms', 'Mop_Heads_&_Sponges', 'Dust_Cloths', 'Drain_Openers', 'Dust_Mops_&_Pads', 'Carpet_Stain_Precleaners', 'Carpet_Machine_Detergents', 'Carpet_Deodorizers', 'Vinyl_Gloves', 'Upholstery_Cleaners', 'Refill_Sponges', 'Feather_Dusters', 'Squeegees', 'Buckets', 'Nitrile_Gloves', 'Dustpans', 'Replacement_Heads', 'Kitchen_Cleaners',  ]\n",
        "}\n",
        "\n",
        "# Put your matricola number here (replacing ERROR)\n",
        "matricola = 1957976\n",
        "\n",
        "random.seed(matricola)\n",
        "\n",
        "for k in labels.keys():\n",
        "  #print(labels[k])\n",
        "  tl = random.choice(list(labels[k]))\n",
        "  print(\"%s/%s\" %(k,tl))\n"
      ],
      "execution_count": null,
      "outputs": [
        {
          "output_type": "stream",
          "text": [
            "containers/grocery_bag\n",
            "tableware/side_dish_plate\n",
            "drinks/Tea_drink_bottle\n",
            "cutlery/dinnerware\n",
            "fruits/Melons\n",
            "snacks/Breadsticks\n",
            "food/canned_tuna\n",
            "cleaning_stuff/Mop_Handles\n"
          ],
          "name": "stdout"
        }
      ]
    },
    {
      "cell_type": "markdown",
      "metadata": {
        "id": "00Hprdz2a5hZ"
      },
      "source": [
        "**Mounting drive**"
      ]
    },
    {
      "cell_type": "code",
      "metadata": {
        "colab": {
          "base_uri": "https://localhost:8080/"
        },
        "id": "J_hwUDSZpoze",
        "outputId": "a40a1468-93d5-4818-896d-462ce5f133d9"
      },
      "source": [
        "from google.colab import drive\n",
        "drive.mount('/content/drive')"
      ],
      "execution_count": null,
      "outputs": [
        {
          "output_type": "stream",
          "text": [
            "Drive already mounted at /content/drive; to attempt to forcibly remount, call drive.mount(\"/content/drive\", force_remount=True).\n"
          ],
          "name": "stdout"
        }
      ]
    },
    {
      "cell_type": "markdown",
      "metadata": {
        "id": "oSE2pTCTa8j-"
      },
      "source": [
        "**Splitting Dataset**\r\n",
        "I split the dataset using the splitfolders function. This function produces in output 3 subsets of the dataset:\r\n",
        "\r\n",
        "\r\n",
        "*   70% of the dataset is the Training Set\r\n",
        "*   10% of the dataset is the Testing Set (used to check performances at the end)\r\n",
        "*   20% of the dataset is the Validation Set (used during training)\r\n",
        "\r\n"
      ]
    },
    {
      "cell_type": "code",
      "metadata": {
        "colab": {
          "base_uri": "https://localhost:8080/"
        },
        "id": "YfhR_RNrdBub",
        "outputId": "8451b35b-ab0a-4014-e056-c3d3d92571b8"
      },
      "source": [
        "splitfolders.ratio('/content/drive/MyDrive/ML_HW2', output='/content/drive/MyDrive/Data', seed=1234, ratio=(.7, .1, .2)) "
      ],
      "execution_count": null,
      "outputs": [
        {
          "output_type": "stream",
          "text": [
            "Copying files: 8588 files [00:53, 159.54 files/s]\n"
          ],
          "name": "stderr"
        }
      ]
    },
    {
      "cell_type": "markdown",
      "metadata": {
        "id": "bJFdevAvyntw"
      },
      "source": [
        "**We make random transformations in order to increase variability**"
      ]
    },
    {
      "cell_type": "code",
      "metadata": {
        "colab": {
          "base_uri": "https://localhost:8080/"
        },
        "id": "Vkn49300E7CW",
        "outputId": "d34a5d0f-5afb-42fa-c1f2-f472ee2fab9d"
      },
      "source": [
        "datadir = '/content/drive/MyDrive/Data'\r\n",
        "trainingset = datadir+'/train/'\r\n",
        "valset = datadir + '/val/'\r\n",
        "\r\n",
        "batch_size=32\r\n",
        "train_datagen = ImageDataGenerator(rescale = 1./255, zoom_range = 0.1, rotation_range = 5,\r\n",
        "                                   width_shift_range = 0.1, height_shift_range = 0.1,\r\n",
        "                                   horizontal_flip = True, vertical_flip = False)\r\n",
        "\r\n",
        "train_generator = train_datagen.flow_from_directory(directory = trainingset, target_size=(256, 256), color_mode='rgb',\r\n",
        "                                                    batch_size=batch_size, class_mode='categorical', shuffle=True)\r\n",
        "\r\n",
        "val_datagen = ImageDataGenerator(rescale = 1./255)\r\n",
        "\r\n",
        "val_generator = val_datagen.flow_from_directory(directory = valset, target_size=(256, 256), color_mode=\"rgb\",\r\n",
        "                                                  batch_size=batch_size, class_mode=\"categorical\", shuffle=False)\r\n",
        "\r\n",
        "num_samples = train_generator.n\r\n",
        "num_classes = train_generator.num_classes\r\n",
        "input_shape = train_generator.image_shape\r\n",
        "classnames = [k for k,v in train_generator.class_indices.items()]\r\n",
        "\r\n",
        "print(\"Image input %s\" %str(input_shape))\r\n",
        "print(\"Classes: %r\" %classnames)\r\n",
        "\r\n",
        "print('Loaded %d training samples from %d classes.' %(num_samples,num_classes))\r\n",
        "print('Loaded %d test samples from %d classes.' %(val_generator.n,val_generator.num_classes))"
      ],
      "execution_count": null,
      "outputs": [
        {
          "output_type": "stream",
          "text": [
            "Found 6007 images belonging to 8 classes.\n",
            "Found 1726 images belonging to 8 classes.\n",
            "Image input (256, 256, 3)\n",
            "Classes: ['Breadsticks', 'Melons', 'Mop_Handles', 'Tea_drink_bottle', 'canned_tuna', 'dinnerware', 'grocery_bag', 'side_dish_plate']\n",
            "Loaded 6007 training samples from 8 classes.\n",
            "Loaded 1726 test samples from 8 classes.\n"
          ],
          "name": "stdout"
        }
      ]
    },
    {
      "cell_type": "markdown",
      "metadata": {
        "id": "BNgkMfS8yo65"
      },
      "source": [
        "**Defining the Network**"
      ]
    },
    {
      "cell_type": "code",
      "metadata": {
        "id": "S_4mb8sks-lf"
      },
      "source": [
        "from keras.models import Sequential\n",
        "from keras.layers import Dense, Activation, Dropout, Flatten, Conv2D, MaxPooling2D\n",
        "from keras.layers.normalization import BatchNormalization\n",
        "from keras import regularizers\n",
        "from keras import optimizers\n",
        "\n",
        "def NeuralNetwork(input_shape, num_classes, regl2 = 0.0001, lr=0.0001):\n",
        "  \n",
        "  model = Sequential()\n",
        "\n",
        "  #CL1\n",
        "  model.add(Conv2D(filters=96, input_shape=input_shape, kernel_size=(7,7), strides=(2,2), padding = 'valid'))\n",
        "  model.add(Activation('relu'))\n",
        "  model.add(MaxPooling2D(pool_size=(2,2), strides=(2,2), padding = 'valid'))\n",
        "  model.add(BatchNormalization())\n",
        "\n",
        "  #CL2\n",
        "  model.add(Conv2D(filters=128, kernel_size=(7,7), strides=(2,2), padding = 'valid'))\n",
        "  model.add(Activation('relu'))\n",
        "  model.add(MaxPooling2D(pool_size=(2,2), strides=(2,2), padding = 'valid'))\n",
        "  model.add(BatchNormalization())\n",
        "\n",
        "  #CL3\n",
        "  model.add(Conv2D(filters=256, kernel_size=(3,3), strides=(2,2), padding = 'valid'))\n",
        "  model.add(Activation('relu'))\n",
        "  model.add(MaxPooling2D(pool_size=(2,2), strides=(2,2), padding = 'valid'))\n",
        "  model.add(BatchNormalization())\n",
        "\n",
        "  model.add(Flatten())\n",
        "\n",
        "  flatten_shape = (input_shape[0]*input_shape[1]*input_shape[2],)\n",
        "\n",
        "  #DL1\n",
        "  model.add(Dense(4096, input_shape=flatten_shape, kernel_regularizer=regularizers.l2(regl2)))\n",
        "  model.add(Activation('relu'))\n",
        "  model.add(Dropout(0.4))\n",
        "  model.add(BatchNormalization())\n",
        "\n",
        "  #DL2\n",
        "  model.add(Dense(1000, kernel_regularizer=regularizers.l2(regl2)))\n",
        "  model.add(Activation('relu'))\n",
        "  model.add(Dropout(0.4))\n",
        "  model.add(BatchNormalization())\n",
        "\n",
        "  #Output\n",
        "  model.add(Dense(num_classes))\n",
        "  model.add(Activation('softmax'))\n",
        "\n",
        "  adam=optimizers.Adam(lr=lr)\n",
        "  model.compile(loss='categorical_crossentropy', optimizer=adam, metrics=['accuracy'])\n",
        "\n",
        "  return model"
      ],
      "execution_count": null,
      "outputs": []
    },
    {
      "cell_type": "markdown",
      "metadata": {
        "id": "1qOiVeLGytrL"
      },
      "source": [
        "**Summary of the Network**"
      ]
    },
    {
      "cell_type": "code",
      "metadata": {
        "colab": {
          "base_uri": "https://localhost:8080/"
        },
        "id": "37yyu8Jjqk8b",
        "outputId": "41903512-9c28-41cb-b508-a6f576c637e1"
      },
      "source": [
        "model = NeuralNetwork(input_shape, num_classes)\r\n",
        "model.summary()"
      ],
      "execution_count": null,
      "outputs": [
        {
          "output_type": "stream",
          "text": [
            "Model: \"sequential_11\"\n",
            "_________________________________________________________________\n",
            "Layer (type)                 Output Shape              Param #   \n",
            "=================================================================\n",
            "conv2d_37 (Conv2D)           (None, 125, 125, 96)      14208     \n",
            "_________________________________________________________________\n",
            "activation_56 (Activation)   (None, 125, 125, 96)      0         \n",
            "_________________________________________________________________\n",
            "max_pooling2d_35 (MaxPooling (None, 62, 62, 96)        0         \n",
            "_________________________________________________________________\n",
            "batch_normalization_47 (Batc (None, 62, 62, 96)        384       \n",
            "_________________________________________________________________\n",
            "conv2d_38 (Conv2D)           (None, 28, 28, 128)       602240    \n",
            "_________________________________________________________________\n",
            "activation_57 (Activation)   (None, 28, 28, 128)       0         \n",
            "_________________________________________________________________\n",
            "max_pooling2d_36 (MaxPooling (None, 14, 14, 128)       0         \n",
            "_________________________________________________________________\n",
            "batch_normalization_48 (Batc (None, 14, 14, 128)       512       \n",
            "_________________________________________________________________\n",
            "conv2d_39 (Conv2D)           (None, 6, 6, 256)         295168    \n",
            "_________________________________________________________________\n",
            "activation_58 (Activation)   (None, 6, 6, 256)         0         \n",
            "_________________________________________________________________\n",
            "max_pooling2d_37 (MaxPooling (None, 3, 3, 256)         0         \n",
            "_________________________________________________________________\n",
            "batch_normalization_49 (Batc (None, 3, 3, 256)         1024      \n",
            "_________________________________________________________________\n",
            "flatten_7 (Flatten)          (None, 2304)              0         \n",
            "_________________________________________________________________\n",
            "dense_21 (Dense)             (None, 4096)              9441280   \n",
            "_________________________________________________________________\n",
            "activation_59 (Activation)   (None, 4096)              0         \n",
            "_________________________________________________________________\n",
            "dropout_14 (Dropout)         (None, 4096)              0         \n",
            "_________________________________________________________________\n",
            "batch_normalization_50 (Batc (None, 4096)              16384     \n",
            "_________________________________________________________________\n",
            "dense_22 (Dense)             (None, 1000)              4097000   \n",
            "_________________________________________________________________\n",
            "activation_60 (Activation)   (None, 1000)              0         \n",
            "_________________________________________________________________\n",
            "dropout_15 (Dropout)         (None, 1000)              0         \n",
            "_________________________________________________________________\n",
            "batch_normalization_51 (Batc (None, 1000)              4000      \n",
            "_________________________________________________________________\n",
            "dense_23 (Dense)             (None, 8)                 8008      \n",
            "_________________________________________________________________\n",
            "activation_61 (Activation)   (None, 8)                 0         \n",
            "=================================================================\n",
            "Total params: 14,480,208\n",
            "Trainable params: 14,469,056\n",
            "Non-trainable params: 11,152\n",
            "_________________________________________________________________\n"
          ],
          "name": "stdout"
        }
      ]
    },
    {
      "cell_type": "markdown",
      "metadata": {
        "id": "cWLx19HdyuxP"
      },
      "source": [
        "**Model training**"
      ]
    },
    {
      "cell_type": "code",
      "metadata": {
        "colab": {
          "base_uri": "https://localhost:8080/"
        },
        "id": "zl6HpVjin-xo",
        "outputId": "a74c688c-37ef-4f7e-91d3-c62427d6e473"
      },
      "source": [
        "steps_per_epoch=train_generator.n//train_generator.batch_size\r\n",
        "val_steps=val_generator.n//val_generator.batch_size+1\r\n",
        "epochs = 50\r\n",
        "try:\r\n",
        "    model_history = model.fit(train_generator, epochs=epochs, verbose=1, steps_per_epoch = steps_per_epoch, \r\n",
        "                        validation_data=val_generator, validation_steps=val_steps)\r\n",
        "except KeyboardInterrupt:\r\n",
        "    pass"
      ],
      "execution_count": null,
      "outputs": [
        {
          "output_type": "stream",
          "text": [
            "Epoch 1/50\n",
            "187/187 [==============================] - 99s 529ms/step - loss: 2.5345 - accuracy: 0.3401 - val_loss: 2.7271 - val_accuracy: 0.1767\n",
            "Epoch 2/50\n",
            "187/187 [==============================] - 95s 510ms/step - loss: 2.3052 - accuracy: 0.3956 - val_loss: 2.4823 - val_accuracy: 0.2874\n",
            "Epoch 3/50\n",
            "187/187 [==============================] - 96s 511ms/step - loss: 2.1349 - accuracy: 0.4420 - val_loss: 1.9842 - val_accuracy: 0.4397\n",
            "Epoch 4/50\n",
            "187/187 [==============================] - 96s 512ms/step - loss: 2.0554 - accuracy: 0.4686 - val_loss: 1.7800 - val_accuracy: 0.5313\n",
            "Epoch 5/50\n",
            "187/187 [==============================] - 95s 506ms/step - loss: 1.9966 - accuracy: 0.4808 - val_loss: 2.3619 - val_accuracy: 0.4125\n",
            "Epoch 6/50\n",
            "187/187 [==============================] - 93s 497ms/step - loss: 1.9060 - accuracy: 0.5125 - val_loss: 1.8749 - val_accuracy: 0.5295\n",
            "Epoch 7/50\n",
            "187/187 [==============================] - 92s 493ms/step - loss: 1.8322 - accuracy: 0.5285 - val_loss: 3.1264 - val_accuracy: 0.4461\n",
            "Epoch 8/50\n",
            "187/187 [==============================] - 92s 494ms/step - loss: 1.7985 - accuracy: 0.5384 - val_loss: 2.1403 - val_accuracy: 0.5087\n",
            "Epoch 9/50\n",
            "187/187 [==============================] - 92s 494ms/step - loss: 1.7439 - accuracy: 0.5575 - val_loss: 1.7596 - val_accuracy: 0.5649\n",
            "Epoch 10/50\n",
            "187/187 [==============================] - 93s 497ms/step - loss: 1.6979 - accuracy: 0.5721 - val_loss: 1.9387 - val_accuracy: 0.5585\n",
            "Epoch 11/50\n",
            "187/187 [==============================] - 91s 487ms/step - loss: 1.6498 - accuracy: 0.5883 - val_loss: 1.6574 - val_accuracy: 0.5939\n",
            "Epoch 12/50\n",
            "187/187 [==============================] - 91s 485ms/step - loss: 1.6328 - accuracy: 0.5975 - val_loss: 1.7372 - val_accuracy: 0.5562\n",
            "Epoch 13/50\n",
            "187/187 [==============================] - 91s 484ms/step - loss: 1.5701 - accuracy: 0.6177 - val_loss: 1.7375 - val_accuracy: 0.5666\n",
            "Epoch 14/50\n",
            "187/187 [==============================] - 92s 491ms/step - loss: 1.5372 - accuracy: 0.6286 - val_loss: 1.8405 - val_accuracy: 0.5805\n",
            "Epoch 15/50\n",
            "187/187 [==============================] - 91s 487ms/step - loss: 1.5173 - accuracy: 0.6331 - val_loss: 1.6206 - val_accuracy: 0.6124\n",
            "Epoch 16/50\n",
            "187/187 [==============================] - 91s 488ms/step - loss: 1.4776 - accuracy: 0.6445 - val_loss: 1.5956 - val_accuracy: 0.6234\n",
            "Epoch 17/50\n",
            "187/187 [==============================] - 92s 489ms/step - loss: 1.4460 - accuracy: 0.6584 - val_loss: 1.6772 - val_accuracy: 0.5933\n",
            "Epoch 18/50\n",
            "187/187 [==============================] - 91s 486ms/step - loss: 1.4215 - accuracy: 0.6576 - val_loss: 1.5778 - val_accuracy: 0.6246\n",
            "Epoch 19/50\n",
            "187/187 [==============================] - 91s 486ms/step - loss: 1.4051 - accuracy: 0.6695 - val_loss: 1.6304 - val_accuracy: 0.6136\n",
            "Epoch 20/50\n",
            "187/187 [==============================] - 92s 489ms/step - loss: 1.4008 - accuracy: 0.6760 - val_loss: 1.6335 - val_accuracy: 0.6309\n",
            "Epoch 21/50\n",
            "187/187 [==============================] - 92s 491ms/step - loss: 1.3542 - accuracy: 0.6875 - val_loss: 1.7129 - val_accuracy: 0.6141\n",
            "Epoch 22/50\n",
            "187/187 [==============================] - 91s 488ms/step - loss: 1.3585 - accuracy: 0.6894 - val_loss: 1.7818 - val_accuracy: 0.5435\n",
            "Epoch 23/50\n",
            "187/187 [==============================] - 92s 490ms/step - loss: 1.3129 - accuracy: 0.7004 - val_loss: 1.6776 - val_accuracy: 0.6176\n",
            "Epoch 24/50\n",
            "187/187 [==============================] - 92s 494ms/step - loss: 1.2881 - accuracy: 0.7076 - val_loss: 1.5439 - val_accuracy: 0.6559\n",
            "Epoch 25/50\n",
            "187/187 [==============================] - 92s 490ms/step - loss: 1.2766 - accuracy: 0.7116 - val_loss: 1.8207 - val_accuracy: 0.5481\n",
            "Epoch 26/50\n",
            "187/187 [==============================] - 92s 491ms/step - loss: 1.2556 - accuracy: 0.7173 - val_loss: 1.5985 - val_accuracy: 0.6385\n",
            "Epoch 27/50\n",
            "187/187 [==============================] - 92s 493ms/step - loss: 1.2434 - accuracy: 0.7295 - val_loss: 1.5152 - val_accuracy: 0.6605\n",
            "Epoch 28/50\n",
            "187/187 [==============================] - 92s 492ms/step - loss: 1.2139 - accuracy: 0.7356 - val_loss: 1.4204 - val_accuracy: 0.6727\n",
            "Epoch 29/50\n",
            "187/187 [==============================] - 92s 492ms/step - loss: 1.2069 - accuracy: 0.7344 - val_loss: 1.5300 - val_accuracy: 0.6304\n",
            "Epoch 30/50\n",
            "187/187 [==============================] - 92s 492ms/step - loss: 1.1869 - accuracy: 0.7520 - val_loss: 1.4156 - val_accuracy: 0.6808\n",
            "Epoch 31/50\n",
            "187/187 [==============================] - 93s 497ms/step - loss: 1.1748 - accuracy: 0.7469 - val_loss: 1.4832 - val_accuracy: 0.6564\n",
            "Epoch 32/50\n",
            "187/187 [==============================] - 92s 493ms/step - loss: 1.1372 - accuracy: 0.7620 - val_loss: 1.6031 - val_accuracy: 0.6628\n",
            "Epoch 33/50\n",
            "187/187 [==============================] - 92s 494ms/step - loss: 1.1248 - accuracy: 0.7615 - val_loss: 1.6879 - val_accuracy: 0.6448\n",
            "Epoch 34/50\n",
            "187/187 [==============================] - 93s 499ms/step - loss: 1.0952 - accuracy: 0.7736 - val_loss: 1.6915 - val_accuracy: 0.5939\n",
            "Epoch 35/50\n",
            "187/187 [==============================] - 92s 494ms/step - loss: 1.0896 - accuracy: 0.7747 - val_loss: 1.8011 - val_accuracy: 0.5788\n",
            "Epoch 36/50\n",
            "187/187 [==============================] - 92s 492ms/step - loss: 1.0691 - accuracy: 0.7883 - val_loss: 1.6481 - val_accuracy: 0.6280\n",
            "Epoch 37/50\n",
            "187/187 [==============================] - 93s 498ms/step - loss: 1.0623 - accuracy: 0.7846 - val_loss: 1.8382 - val_accuracy: 0.6234\n",
            "Epoch 38/50\n",
            "187/187 [==============================] - 93s 498ms/step - loss: 1.0485 - accuracy: 0.7886 - val_loss: 1.4254 - val_accuracy: 0.6987\n",
            "Epoch 39/50\n",
            "187/187 [==============================] - 93s 499ms/step - loss: 1.0281 - accuracy: 0.7992 - val_loss: 1.4665 - val_accuracy: 0.6889\n",
            "Epoch 40/50\n",
            "187/187 [==============================] - 93s 498ms/step - loss: 1.0254 - accuracy: 0.7936 - val_loss: 1.3483 - val_accuracy: 0.7207\n",
            "Epoch 41/50\n",
            "187/187 [==============================] - 94s 501ms/step - loss: 1.0214 - accuracy: 0.8035 - val_loss: 1.3289 - val_accuracy: 0.7144\n",
            "Epoch 42/50\n",
            "187/187 [==============================] - 93s 497ms/step - loss: 0.9865 - accuracy: 0.8085 - val_loss: 1.8036 - val_accuracy: 0.6460\n",
            "Epoch 43/50\n",
            "187/187 [==============================] - 93s 500ms/step - loss: 0.9782 - accuracy: 0.8115 - val_loss: 1.3714 - val_accuracy: 0.7161\n",
            "Epoch 44/50\n",
            "187/187 [==============================] - 94s 502ms/step - loss: 0.9784 - accuracy: 0.8107 - val_loss: 1.3771 - val_accuracy: 0.7265\n",
            "Epoch 45/50\n",
            "187/187 [==============================] - 93s 499ms/step - loss: 0.9488 - accuracy: 0.8286 - val_loss: 1.4344 - val_accuracy: 0.7010\n",
            "Epoch 46/50\n",
            "187/187 [==============================] - 93s 500ms/step - loss: 0.9547 - accuracy: 0.8251 - val_loss: 1.4739 - val_accuracy: 0.6964\n",
            "Epoch 47/50\n",
            "187/187 [==============================] - 94s 501ms/step - loss: 0.9318 - accuracy: 0.8295 - val_loss: 1.4494 - val_accuracy: 0.7039\n",
            "Epoch 48/50\n",
            "187/187 [==============================] - 93s 500ms/step - loss: 0.9078 - accuracy: 0.8353 - val_loss: 1.4975 - val_accuracy: 0.6900\n",
            "Epoch 49/50\n",
            "187/187 [==============================] - 94s 501ms/step - loss: 0.9118 - accuracy: 0.8375 - val_loss: 1.5997 - val_accuracy: 0.6599\n",
            "Epoch 50/50\n",
            "187/187 [==============================] - 95s 507ms/step - loss: 0.9190 - accuracy: 0.8350 - val_loss: 1.5789 - val_accuracy: 0.6622\n"
          ],
          "name": "stdout"
        }
      ]
    },
    {
      "cell_type": "markdown",
      "metadata": {
        "id": "HY9YOwdJy-zi"
      },
      "source": [
        "**Accuracy and loss over training epochs**"
      ]
    },
    {
      "cell_type": "code",
      "metadata": {
        "colab": {
          "base_uri": "https://localhost:8080/",
          "height": 573
        },
        "id": "ILJXG-sFskdb",
        "outputId": "22cba8ce-e9bf-4442-fff1-3be577cddbc3"
      },
      "source": [
        "# summarize history for accuracy\r\n",
        "plt.plot(model_history.history['accuracy'])\r\n",
        "plt.plot(model_history.history['val_accuracy'])\r\n",
        "plt.title('model accuracy')\r\n",
        "plt.ylabel('accuracy')\r\n",
        "plt.xlabel('epoch')\r\n",
        "plt.legend(['train', 'test'], loc='upper left')\r\n",
        "plt.show()\r\n",
        "# summarize history for loss\r\n",
        "plt.plot(model_history.history['loss'])\r\n",
        "plt.plot(model_history.history['val_loss'])\r\n",
        "plt.title('model loss')\r\n",
        "plt.ylabel('loss')\r\n",
        "plt.xlabel('epoch')\r\n",
        "plt.legend(['train', 'test'], loc='upper left')\r\n",
        "plt.show()"
      ],
      "execution_count": null,
      "outputs": [
        {
          "output_type": "display_data",
          "data": {
            "image/png": "[encoded data removed]",
            "text/plain": [
              "<Figure size 432x288 with 1 Axes>"
            ]
          },
          "metadata": {
            "tags": [],
            "needs_background": "light"
          }
        },
        {
          "output_type": "display_data",
          "data": {
            "image/png": "[encoded data removed]",
            "text/plain": [
              "<Figure size 432x288 with 1 Axes>"
            ]
          },
          "metadata": {
            "tags": [],
            "needs_background": "light"
          }
        }
      ]
    },
    {
      "cell_type": "markdown",
      "metadata": {
        "id": "GfNxcbFazItm"
      },
      "source": [
        "**Saving the model**"
      ]
    },
    {
      "cell_type": "code",
      "metadata": {
        "colab": {
          "base_uri": "https://localhost:8080/"
        },
        "id": "ZV9YjK2BX4El",
        "outputId": "6c160d7b-1d66-47bc-9fc8-4c1d0b92daea"
      },
      "source": [
        "models_dir = datadir\r\n",
        "\r\n",
        "def savemodel(model, problem):\r\n",
        "    filename = os.path.join(models_dir, '%s.h5' %problem)\r\n",
        "    model.save(filename)\r\n",
        "    print(\"\\nModel saved successfully on file %s\\n\" %filename)\r\n",
        "\r\n",
        "savemodel(model,'My_NN_model')"
      ],
      "execution_count": null,
      "outputs": [
        {
          "output_type": "stream",
          "text": [
            "\n",
            "Model saved successfully on file /content/drive/MyDrive/Data/My_NN_model.h5\n",
            "\n"
          ],
          "name": "stdout"
        }
      ]
    },
    {
      "cell_type": "markdown",
      "metadata": {
        "id": "5YjuSBU8zKjF"
      },
      "source": [
        "**Loading the presaved model**\r\n",
        "Not necessary in this case, but it's always good to have a loading function"
      ]
    },
    {
      "cell_type": "code",
      "metadata": {
        "id": "1s508M4XzNBG"
      },
      "source": [
        "from keras.models import load_model\r\n",
        "\r\n",
        "models_dir = datadir\r\n",
        "\r\n",
        "def loadmodel(problem):\r\n",
        "    filename = os.path.join(models_dir, '%s.h5' %problem)\r\n",
        "    try:\r\n",
        "        model = load_model(filename)\r\n",
        "        print(\"\\nModel loaded successfully from file %s\\n\" %filename)\r\n",
        "    except OSError:    \r\n",
        "        print(\"\\nModel file %s not found!!!\\n\" %filename)\r\n",
        "        model = None\r\n",
        "    return model\r\n",
        "\r\n",
        "model = loadmodel('My_NN_model')"
      ],
      "execution_count": null,
      "outputs": []
    },
    {
      "cell_type": "markdown",
      "metadata": {
        "id": "Ymp3k_JKzZaI"
      },
      "source": [
        "**Now, we evaluate the model**"
      ]
    },
    {
      "cell_type": "code",
      "metadata": {
        "colab": {
          "base_uri": "https://localhost:8080/"
        },
        "id": "E4XeTOUzYeJO",
        "outputId": "a07fc948-f2fb-4a1d-977e-0866e601fec0"
      },
      "source": [
        "testset = datadir + '/test/'\r\n",
        "\r\n",
        "test_datagen = ImageDataGenerator(rescale = 1./255)\r\n",
        "\r\n",
        "test_generator = test_datagen.flow_from_directory(\r\n",
        "    directory=testset,\r\n",
        "    target_size=(256, 256),\r\n",
        "    color_mode=\"rgb\",\r\n",
        "    batch_size=batch_size,\r\n",
        "    class_mode=\"categorical\",\r\n",
        "    shuffle=False\r\n",
        ")\r\n",
        "\r\n",
        "val_steps=test_generator.n//test_generator.batch_size+1\r\n",
        "loss, acc = model.evaluate(test_generator,verbose=1,steps=val_steps)\r\n",
        "print('Test loss: %f' %loss)\r\n",
        "print('Test accuracy: %f' %acc)"
      ],
      "execution_count": null,
      "outputs": [
        {
          "output_type": "stream",
          "text": [
            "Found 855 images belonging to 8 classes.\n",
            "27/27 [==============================] - 2s 89ms/step - loss: 1.6162 - accuracy: 0.6573\n",
            "Test loss: 1.616195\n",
            "Test accuracy: 0.657310\n"
          ],
          "name": "stdout"
        }
      ]
    },
    {
      "cell_type": "code",
      "metadata": {
        "colab": {
          "base_uri": "https://localhost:8080/"
        },
        "id": "uBzRx7aYY-4O",
        "outputId": "af35d05b-faf2-417f-a841-726442146f9a"
      },
      "source": [
        "import sklearn.metrics \r\n",
        "from sklearn.metrics import classification_report, confusion_matrix\r\n",
        "\r\n",
        "preds = model.predict(test_generator,verbose=1,steps=val_steps)\r\n",
        "\r\n",
        "Ypred = np.argmax(preds, axis=1)\r\n",
        "Ytest = test_generator.classes  \r\n",
        "\r\n",
        "print(classification_report(Ytest, Ypred, labels=None, target_names=classnames, digits=3))"
      ],
      "execution_count": null,
      "outputs": [
        {
          "output_type": "stream",
          "text": [
            "27/27 [==============================] - 2s 89ms/step\n",
            "                  precision    recall  f1-score   support\n",
            "\n",
            "     Breadsticks      0.693     0.760     0.725       104\n",
            "          Melons      0.814     0.625     0.707       112\n",
            "     Mop_Handles      0.914     0.655     0.763       113\n",
            "Tea_drink_bottle      0.555     0.717     0.626        99\n",
            "     canned_tuna      0.473     0.821     0.600        95\n",
            "      dinnerware      0.671     0.579     0.621        95\n",
            "     grocery_bag      0.737     0.670     0.702       109\n",
            " side_dish_plate      0.620     0.484     0.544       128\n",
            "\n",
            "        accuracy                          0.657       855\n",
            "       macro avg      0.685     0.664     0.661       855\n",
            "    weighted avg      0.690     0.657     0.661       855\n",
            "\n"
          ],
          "name": "stdout"
        }
      ]
    },
    {
      "cell_type": "markdown",
      "metadata": {
        "id": "eYNd5Nw4zfXY"
      },
      "source": [
        "**A function for Confusion Matrix**"
      ]
    },
    {
      "cell_type": "code",
      "metadata": {
        "id": "ioEZFoHIZsV-"
      },
      "source": [
        "import itertools\r\n",
        "\r\n",
        "def plot_confusion_matrix(cm,\r\n",
        "                          target_names,\r\n",
        "                          title='Confusion matrix',\r\n",
        "                          cmap=None,\r\n",
        "                          normalize=True):\r\n",
        "  \r\n",
        "    accuracy = np.trace(cm) / np.sum(cm).astype('float')\r\n",
        "    misclass = 1 - accuracy\r\n",
        "\r\n",
        "    if cmap is None:\r\n",
        "        cmap = plt.get_cmap('Blues')\r\n",
        "\r\n",
        "    plt.figure(figsize=(8, 6))\r\n",
        "    plt.imshow(cm, interpolation='nearest', cmap=cmap)\r\n",
        "    plt.title(title)\r\n",
        "    plt.colorbar()\r\n",
        "\r\n",
        "    if target_names is not None:\r\n",
        "        tick_marks = np.arange(len(target_names))\r\n",
        "        plt.xticks(tick_marks, target_names, rotation=45)\r\n",
        "        plt.yticks(tick_marks, target_names)\r\n",
        "\r\n",
        "    if normalize:\r\n",
        "        cm = cm.astype('float') / cm.sum(axis=1)[:, np.newaxis]\r\n",
        "\r\n",
        "\r\n",
        "    thresh = cm.max() / 1.5 if normalize else cm.max() / 2\r\n",
        "    for i, j in itertools.product(range(cm.shape[0]), range(cm.shape[1])):\r\n",
        "        if normalize:\r\n",
        "            plt.text(j, i, \"{:0.4f}\".format(cm[i, j]),\r\n",
        "                     horizontalalignment=\"center\",\r\n",
        "                     color=\"white\" if cm[i, j] > thresh else \"black\")\r\n",
        "        else:\r\n",
        "            plt.text(j, i, \"{:,}\".format(cm[i, j]),\r\n",
        "                     horizontalalignment=\"center\",\r\n",
        "                     color=\"white\" if cm[i, j] > thresh else \"black\")\r\n",
        "\r\n",
        "\r\n",
        "    plt.tight_layout()\r\n",
        "    plt.ylabel('True label')\r\n",
        "    plt.xlabel('Predicted label\\naccuracy={:0.4f}; misclass={:0.4f}'.format(accuracy, misclass))\r\n",
        "    plt.show()"
      ],
      "execution_count": null,
      "outputs": []
    },
    {
      "cell_type": "markdown",
      "metadata": {
        "id": "26URzRBtzi2M"
      },
      "source": [
        "**Confusion Matrix**"
      ]
    },
    {
      "cell_type": "code",
      "metadata": {
        "colab": {
          "base_uri": "https://localhost:8080/",
          "height": 467
        },
        "id": "I64QIUukZtux",
        "outputId": "4c2003e2-6918-46b2-d313-017e5aaa475d"
      },
      "source": [
        "cm = confusion_matrix(Ytest, Ypred, labels=None, sample_weight=None)\r\n",
        "plot_confusion_matrix(cm, classnames)"
      ],
      "execution_count": null,
      "outputs": [
        {
          "output_type": "display_data",
          "data": {
            "image/png": "[encoded data removed]",
            "text/plain": [
              "<Figure size 576x432 with 2 Axes>"
            ]
          },
          "metadata": {
            "tags": [],
            "needs_background": "light"
          }
        }
      ]
    }
  ]
}
